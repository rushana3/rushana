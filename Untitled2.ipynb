{
  "nbformat": 4,
  "nbformat_minor": 0,
  "metadata": {
    "colab": {
      "provenance": []
    },
    "kernelspec": {
      "name": "python3",
      "display_name": "Python 3"
    },
    "language_info": {
      "name": "python"
    }
  },
  "cells": [
    {
      "cell_type": "code",
      "execution_count": 2,
      "metadata": {
        "colab": {
          "base_uri": "https://localhost:8080/"
        },
        "id": "DA376CC_TipR",
        "outputId": "cd240317-43f6-4c68-f2a8-cd78c4eb8945"
      },
      "outputs": [
        {
          "output_type": "stream",
          "name": "stdout",
          "text": [
            "3\n",
            "Данное число не является четным\n"
          ]
        }
      ],
      "source": [
        "a = int(input())\n",
        "if a % 2 == 0:\n",
        "    print('Данное число четное')\n",
        "else:\n",
        "    print('Данное число не является четным')"
      ]
    },
    {
      "cell_type": "code",
      "source": [
        "a = int(input())\n",
        "b = int(input())\n",
        "if a > b:\n",
        "    print(a)\n",
        "elif b > a:\n",
        "    print(b)"
      ],
      "metadata": {
        "colab": {
          "base_uri": "https://localhost:8080/"
        },
        "id": "04ZGAEpiVCjI",
        "outputId": "a72e77e7-fb39-454b-fea3-076587215870"
      },
      "execution_count": 5,
      "outputs": [
        {
          "output_type": "stream",
          "name": "stdout",
          "text": [
            "4\n",
            "3\n",
            "4\n"
          ]
        }
      ]
    },
    {
      "cell_type": "code",
      "source": [
        "a = int(input())\n",
        "b = int(input())\n",
        "if not a % 2 == 0 and b % 2 == 0:\n",
        "    print('YES')\n",
        "else:\n",
        "    print('NO')"
      ],
      "metadata": {
        "colab": {
          "base_uri": "https://localhost:8080/"
        },
        "id": "8MpQm6kQXO5Z",
        "outputId": "18babb7d-d0aa-4e8f-dfea-b59acdd45fa3"
      },
      "execution_count": 11,
      "outputs": [
        {
          "output_type": "stream",
          "name": "stdout",
          "text": [
            "1\n",
            "3\n",
            "NO\n"
          ]
        }
      ]
    }
  ]
}