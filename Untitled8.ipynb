{
  "nbformat": 4,
  "nbformat_minor": 0,
  "metadata": {
    "colab": {
      "provenance": []
    },
    "kernelspec": {
      "name": "python3",
      "display_name": "Python 3"
    },
    "language_info": {
      "name": "python"
    }
  },
  "cells": [
    {
      "cell_type": "code",
      "execution_count": null,
      "metadata": {
        "colab": {
          "base_uri": "https://localhost:8080/"
        },
        "id": "b7X-BwAKl4Jj",
        "outputId": "6258e4b4-7baa-47c5-f488-e0e02fc4fc80"
      },
      "outputs": [
        {
          "output_type": "stream",
          "name": "stdout",
          "text": [
            "3\n",
            "Самара\n",
            "Самара\n",
            "Казань\n",
            "2\n"
          ]
        }
      ],
      "source": [
        "n = int(input())\n",
        "b = set()\n",
        "for i in range(n):\n",
        "  b.add(input())\n",
        "print(len(b))"
      ]
    },
    {
      "cell_type": "code",
      "source": [
        "text = input()\n",
        "text = text[0].upper() + text[1:]\n",
        "for i in range(len(text)):\n",
        "   if (text[i] in '.!?') and (i + 2 < len(text)):\n",
        "      text = text[:i + 2] + text[i + 2].upper() + text[i + 3:]\n",
        "print(text)"
      ],
      "metadata": {
        "id": "btiZ1wHcMGoJ",
        "colab": {
          "base_uri": "https://localhost:8080/"
        },
        "outputId": "536bba4f-1368-4584-fc38-0731f8c92ffe"
      },
      "execution_count": null,
      "outputs": [
        {
          "output_type": "stream",
          "name": "stdout",
          "text": [
            "на этом заканчиваю свое сочинение. поставьте пятерку, Мария Ивановна! я очень старалась!\n",
            "На этом заканчиваю свое сочинение. Поставьте пятерку, Мария Ивановна! Я очень старалась!\n"
          ]
        }
      ]
    },
    {
      "cell_type": "code",
      "source": [
        "an1 = input()\n",
        "an2 = input()\n",
        "an1 = an1.replace(' ', '')\n",
        "an2 = an2.replace(' ', '')\n",
        "an1 = an1.lower()\n",
        "an2 = an2.lower()\n",
        "setan1 = set(an1)\n",
        "setan2 = set(an2)\n",
        "for i in range(len(setan1)):\n",
        "  if setan1 == setan2:\n",
        "      print('Строки являются анаграммами')\n",
        "  else:\n",
        "      print('Строки не являются анаграммами')"
      ],
      "metadata": {
        "id": "P08Q7jIbXoa3",
        "colab": {
          "base_uri": "https://localhost:8080/"
        },
        "outputId": "1e03290f-1a11-4eb5-8b69-d87a0a1c0bda"
      },
      "execution_count": null,
      "outputs": [
        {
          "output_type": "stream",
          "name": "stdout",
          "text": [
            "aaaaaaa\n",
            "aaaaaaa\n",
            "Строки являются анаграммами\n"
          ]
        }
      ]
    },
    {
      "cell_type": "code",
      "source": [
        "algebra_input = input().split()\n",
        "geom_input = input().split()\n",
        "trig_input = input().split()\n",
        "algebra = set(algebra_input)\n",
        "geom = set(geom_input)\n",
        "trig = set(trig_input)\n",
        "itog = algebra.intersection(geom, trig)\n",
        "print(itog)"
      ],
      "metadata": {
        "colab": {
          "base_uri": "https://localhost:8080/"
        },
        "id": "Yf1tcs-qJ-qI",
        "outputId": "ed015e88-6949-4e55-db6d-4ae0510c372c"
      },
      "execution_count": 3,
      "outputs": [
        {
          "output_type": "stream",
          "name": "stdout",
          "text": [
            "Иванов Петров Сидоров Михайлов\n",
            "Иванов Михайлов\n",
            "Петров Михайлов\n",
            "{'Михайлов'}\n"
          ]
        }
      ]
    }
  ]
}