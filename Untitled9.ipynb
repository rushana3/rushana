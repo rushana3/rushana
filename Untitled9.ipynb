{
  "nbformat": 4,
  "nbformat_minor": 0,
  "metadata": {
    "colab": {
      "provenance": []
    },
    "kernelspec": {
      "name": "python3",
      "display_name": "Python 3"
    },
    "language_info": {
      "name": "python"
    }
  },
  "cells": [
    {
      "cell_type": "code",
      "source": [
        "def palidrom(a) :\n",
        "  pal = a[::-1]\n",
        "  if a == pal:\n",
        "    return True\n",
        "  return False"
      ],
      "metadata": {
        "id": "rPM_6FXZ53sP"
      },
      "execution_count": null,
      "outputs": []
    },
    {
      "cell_type": "code",
      "source": [
        "a = 'aziza'\n",
        "if palidrom(a):\n",
        "    print(f\"{a} - палидром\")\n",
        "else:\n",
        "    print(f\"{a} - не палидром\")"
      ],
      "metadata": {
        "colab": {
          "base_uri": "https://localhost:8080/"
        },
        "id": "OgFE7KbJ-JkR",
        "outputId": "4615ceed-f626-469e-d2ee-0e14303470b5"
      },
      "execution_count": null,
      "outputs": [
        {
          "output_type": "stream",
          "name": "stdout",
          "text": [
            "aziza - палидром\n"
          ]
        }
      ]
    },
    {
      "cell_type": "code",
      "source": [
        "def person(f, i, o, y):\n",
        "    vvod = (f'{f} {i} {o} {y} г.р. зарегистрирован')\n",
        "    return vvod"
      ],
      "metadata": {
        "id": "BCKRTIgaBlfZ"
      },
      "execution_count": null,
      "outputs": []
    },
    {
      "cell_type": "code",
      "source": [
        "rez = person(\"Иван\", \"Иванов\", \"Иванович\", 1973)\n",
        "print(rez)"
      ],
      "metadata": {
        "colab": {
          "base_uri": "https://localhost:8080/"
        },
        "id": "r9m3T-K2Bwoo",
        "outputId": "86a4a8ab-ff69-4ddc-93a5-c49d6145b778"
      },
      "execution_count": null,
      "outputs": [
        {
          "output_type": "stream",
          "name": "stdout",
          "text": [
            "Иван Иванов Иванович 1973 г.р. зарегистрирован\n"
          ]
        }
      ]
    },
    {
      "cell_type": "code",
      "source": [
        "def maxi(a, b):\n",
        "  if a > b:\n",
        "    return a\n",
        "  return b"
      ],
      "metadata": {
        "id": "RgRD2s2aFT5X"
      },
      "execution_count": 20,
      "outputs": []
    },
    {
      "cell_type": "code",
      "source": [
        "rez = maxi(7, 5)\n",
        "print(rez)"
      ],
      "metadata": {
        "colab": {
          "base_uri": "https://localhost:8080/"
        },
        "id": "HGIyjOdFFnPn",
        "outputId": "f1d20ea8-ee93-4cbe-ddc9-feacfcd9a728"
      },
      "execution_count": 21,
      "outputs": [
        {
          "output_type": "stream",
          "name": "stdout",
          "text": [
            "7\n"
          ]
        }
      ]
    }
  ]
}