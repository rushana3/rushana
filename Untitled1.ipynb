{
  "nbformat": 4,
  "nbformat_minor": 0,
  "metadata": {
    "colab": {
      "provenance": [],
      "authorship_tag": "ABX9TyOe/k/ZvqBFl3QS4B8VNJBT",
      "include_colab_link": true
    },
    "kernelspec": {
      "name": "python3",
      "display_name": "Python 3"
    },
    "language_info": {
      "name": "python"
    }
  },
  "cells": [
    {
      "cell_type": "markdown",
      "metadata": {
        "id": "view-in-github",
        "colab_type": "text"
      },
      "source": [
        "<a href=\"https://colab.research.google.com/github/rushana3/rushana/blob/main/Untitled1.ipynb\" target=\"_parent\"><img src=\"https://colab.research.google.com/assets/colab-badge.svg\" alt=\"Open In Colab\"/></a>"
      ]
    },
    {
      "cell_type": "code",
      "execution_count": 1,
      "metadata": {
        "colab": {
          "base_uri": "https://localhost:8080/"
        },
        "id": "QTikJ-akPIlX",
        "outputId": "cab59416-5ba8-4ed1-fd22-42b5e9e48cfd"
      },
      "outputs": [
        {
          "output_type": "stream",
          "name": "stdout",
          "text": [
            "70.25678\n",
            "70.26\n"
          ]
        }
      ],
      "source": [
        "num = float(input())\n",
        "print(round(num, 2))"
      ]
    },
    {
      "cell_type": "code",
      "source": [
        "num1 = 2\n",
        "num2 = 7\n",
        "print(int(num1)+int(num2))\n",
        "print(9 / 2)\n",
        "num = float(input())\n",
        "print(round(num))"
      ],
      "metadata": {
        "colab": {
          "base_uri": "https://localhost:8080/"
        },
        "id": "bOvXBlIjQNDt",
        "outputId": "f818ac7b-d28a-4be8-b9ef-24267975893f"
      },
      "execution_count": 13,
      "outputs": [
        {
          "output_type": "stream",
          "name": "stdout",
          "text": [
            "9\n",
            "4.5\n",
            "4.5\n",
            "4\n"
          ]
        }
      ]
    }
  ]
}